{
 "cells": [
  {
   "cell_type": "markdown",
   "metadata": {},
   "source": [
    "### Goals\n",
    "- find common stats between states\n",
    "- combine useful information between schools for analysis"
   ]
  },
  {
   "cell_type": "code",
   "execution_count": 1,
   "metadata": {
    "collapsed": true
   },
   "outputs": [],
   "source": [
    "import os\n",
    "\n",
    "import pandas as pd"
   ]
  },
  {
   "cell_type": "code",
   "execution_count": 2,
   "metadata": {
    "collapsed": true
   },
   "outputs": [],
   "source": [
    "# denormalize nys school-level data\n",
    "nys_grad_rate = pd.read_csv('../prepared_data/nys_grad_rate.csv')"
   ]
  },
  {
   "cell_type": "code",
   "execution_count": 4,
   "metadata": {},
   "outputs": [
    {
     "name": "stderr",
     "output_type": "stream",
     "text": [
      "/Users/josh.laurito/anaconda/envs/py36/lib/python3.6/site-packages/ipykernel_launcher.py:9: SettingWithCopyWarning: \n",
      "A value is trying to be set on a copy of a slice from a DataFrame\n",
      "\n",
      "See the caveats in the documentation: http://pandas.pydata.org/pandas-docs/stable/indexing.html#indexing-view-versus-copy\n",
      "  if __name__ == '__main__':\n"
     ]
    }
   ],
   "source": [
    "# 4 year results for all students for every school\n",
    "nys_grad_rate_by_school = nys_grad_rate[\n",
    "    (nys_grad_rate['AGGREGATION_TYPE'] == 'School') & \n",
    "    (nys_grad_rate['SUBGROUP_NAME'] == 'All Students') &\n",
    "    (nys_grad_rate['MEMBERSHIP_DESC'] == '2013 Total Cohort - 4 Year Outcome') \n",
    "]\n",
    "# note: a few schools are still in here twice. also, there is at least\n",
    "# one case of 2 schools with the same name (BEACON HIGH SCHOOL)\n",
    "nys_grad_rate_by_school.drop_duplicates(inplace=True)"
   ]
  },
  {
   "cell_type": "code",
   "execution_count": 5,
   "metadata": {
    "collapsed": true
   },
   "outputs": [],
   "source": [
    "# nys report card data tables\n",
    "nys_reportcard_tables = [x for x in os.listdir('../prepared_data/') if x.find('nys_report') > -1]\n"
   ]
  },
  {
   "cell_type": "code",
   "execution_count": 240,
   "metadata": {
    "collapsed": true
   },
   "outputs": [],
   "source": [
    "# function to define whether a row is school-level data\n",
    "def is_school(entity_cd):\n",
    "    id_string = str(entity_cd)\n",
    "    if len(id_string) < 12:\n",
    "        return False\n",
    "    elif id_string[-4:] == '0000':\n",
    "        return False\n",
    "    elif id_string == '111111111111':\n",
    "        return False\n",
    "    else:\n",
    "        return True\n",
    "\n",
    "# function to generate a shortname from tablename:\n",
    "def shortname(s):\n",
    "    _ = s.lower()\n",
    "    strings_to_replace= ['(',')','&','-','nys_reportcard_','.csv','results']\n",
    "    for st in strings_to_replace:\n",
    "        _ = _.replace(st, '')\n",
    "    _ = '_'.join(_.split('_')[:4])\n",
    "    if _[-1] == '_':\n",
    "        _ = _[:-1]\n",
    "    return _\n",
    "\n",
    "# function to see if item is in list\n",
    "def list_contains(my_list, item):\n",
    "    try:\n",
    "        my_list.index(item)\n",
    "        return True\n",
    "    except ValueError:\n",
    "        return False"
   ]
  },
  {
   "cell_type": "code",
   "execution_count": 254,
   "metadata": {},
   "outputs": [
    {
     "name": "stdout",
     "output_type": "stream",
     "text": [
      "initializing table with science8_subgroup\n",
      "trying to join total_cohort_global_hist\n",
      "trying to join attendance_and_suspensions\n"
     ]
    },
    {
     "name": "stderr",
     "output_type": "stream",
     "text": [
      "/Users/josh.laurito/anaconda/envs/py36/lib/python3.6/site-packages/ipykernel_launcher.py:36: SettingWithCopyWarning: \n",
      "A value is trying to be set on a copy of a slice from a DataFrame\n",
      "\n",
      "See the caveats in the documentation: http://pandas.pydata.org/pandas-docs/stable/indexing.html#indexing-view-versus-copy\n"
     ]
    },
    {
     "name": "stdout",
     "output_type": "stream",
     "text": [
      "skipping table new_york_state_alternate\n",
      "trying to join institution_grouping\n",
      "skipping table regents_examination_annual\n",
      "trying to join boces_and_nrc\n"
     ]
    },
    {
     "name": "stderr",
     "output_type": "stream",
     "text": [
      "/Users/josh.laurito/anaconda/envs/py36/lib/python3.6/site-packages/IPython/core/interactiveshell.py:2698: DtypeWarning: Columns (6,7,13) have mixed types. Specify dtype option on import or set low_memory=False.\n",
      "  interactivity=interactivity, compiler=compiler, result=result)\n"
     ]
    },
    {
     "name": "stdout",
     "output_type": "stream",
     "text": [
      "skipping table accountability\n",
      "trying to join ela5_subgroup\n",
      "trying to join total_cohort_us_hist\n",
      "trying to join math8_subgroup\n",
      "trying to join math7_subgroup\n",
      "trying to join average_class_size\n",
      "skipping table nyseslat_annual\n",
      "trying to join ela4_subgroup\n",
      "trying to join beds_day_enrollment_by\n",
      "trying to join math3_subgroup\n",
      "trying to join math6_subgroup\n",
      "trying to join math5_subgroup\n",
      "skipping table regents_competency_test_rct\n",
      "trying to join staff\n",
      "trying to join ela8_subgroup\n",
      "trying to join ela7_subgroup\n",
      "trying to join total_cohort_graduation_rate\n",
      "trying to join high_school_postgraduation_plans\n",
      "trying to join beds_day_enrollment\n",
      "trying to join math4_subgroup\n",
      "trying to join demographic_factors\n",
      "trying to join high_school_completers\n",
      "skipping table regents_common_core_examination\n",
      "skipping table recently_arrived_ell_students\n",
      "trying to join ela6_subgroup\n",
      "trying to join science4_subgroup\n",
      "trying to join ela3_subgroup\n",
      "trying to join total_cohort_ela_subgroup\n",
      "trying to join total_cohort_science_subgroup\n",
      "trying to join high_school_noncompleters\n",
      "trying to join total_cohort_math_subgroup\n",
      "all tables joined!\n"
     ]
    }
   ],
   "source": [
    "# denormalize NYS reportcard data\n",
    "tables_to_skip = [\n",
    "    'new_york_state_alternate',\n",
    "    'accountability',\n",
    "    'regents_examination_annual',\n",
    "    'nyseslat_annual',\n",
    "    'regents_competency_test_rct',\n",
    "    'regents_common_core_examination',\n",
    "    'recently_arrived_ell_students'\n",
    "]\n",
    "\n",
    "if 'nys_denormalized' in vars():\n",
    "    del nys_denormalized\n",
    "\n",
    "for t in nys_reportcard_tables:\n",
    "    table_shortname = shortname(t)\n",
    "    _df = pd.read_csv('../prepared_data/' + t)\n",
    "    \n",
    "    # logic to account for naming inconsistencies\n",
    "    # and only gathering school-level data and\n",
    "    # all-student data when appropriate\n",
    "    if table_shortname == 'accountability':\n",
    "        _df.rename( columns={'ACC_YEAR': 'YEAR', 'ACC_NAME': 'SUBGROUP_NAME'}, inplace=True)\n",
    "    if table_shortname == 'institution_grouping' or table_shortname[:13] == 'total_cohort_':\n",
    "        _df['YEAR'] = 2016\n",
    "    if table_shortname[:13] == 'total_cohort_':\n",
    "        single_cohort = _df[_df['COHORT'] == 2013]\n",
    "        if len(single_cohort) > 0:\n",
    "            _df = single_cohort\n",
    "        else:\n",
    "            _df = _df[_df['COHORT'] == 2012]\n",
    "    if table_shortname == 'boces_and_nrc' or table_shortname == 'staff':\n",
    "        _df.rename( columns={'SCHOOL_NAME': 'ENTITY_NAME'}, inplace=True)\n",
    "    if _df.columns.contains('SUBGROUP_NAME'):\n",
    "        _df = _df[_df['SUBGROUP_NAME'] == 'All Students']\n",
    "        _df.drop('SUBGROUP_NAME', axis=1, inplace = True)\n",
    "        \n",
    "    # data cleaning for all tables\n",
    "    _df = _df[_df['ENTITY_CD'].apply(lambda x: is_school(x))]\n",
    "    _df = _df[_df['YEAR'] == 2016]\n",
    "    _df.drop_duplicates(inplace=True)\n",
    "    \n",
    "    # initialization and table skipping\n",
    "    if 'nys_denormalized' not in vars():\n",
    "        nys_denormalized = _df\n",
    "        print('initializing table with ' + table_shortname)\n",
    "    elif list_contains(tables_to_skip, table_shortname):\n",
    "        print('skipping table ' + table_shortname)\n",
    "    else:\n",
    "        print('trying to join ' + table_shortname )\n",
    "        _tmp = nys_denormalized.merge(\n",
    "            right = _df, \n",
    "            how = 'outer',\n",
    "            on = ['ENTITY_CD','ENTITY_NAME', 'YEAR'],\n",
    "            suffixes = ['', '_' + table_shortname]\n",
    "        )\n",
    "        nys_denormalized = _tmp\n",
    "    del _df\n",
    "print('all tables joined!')"
   ]
  },
  {
   "cell_type": "code",
   "execution_count": 255,
   "metadata": {
    "scrolled": true
   },
   "outputs": [],
   "source": [
    "#_df = pd.read_csv('../prepared_data/nys_reportcard_Total_Cohort_Graduation_Rate_for_Advanced_Students.csv')\n",
    "#nys_denormalized[nys_denormalized['ENTITY_NAME'] =='ESPERANZA PREPATORY ACADEMY'].to_csv('tmp.csv')\n",
    "#nys_denormalized.head().iloc[2][60:100]"
   ]
  },
  {
   "cell_type": "code",
   "execution_count": 244,
   "metadata": {},
   "outputs": [
    {
     "data": {
      "text/plain": [
       "Index(['ENTITY_CD', 'ENTITY_NAME', 'YEAR', 'NUM_TESTED', 'LEVEL1_COUNT',\n",
       "       'LEVEL1_%TESTED', 'LEVEL2_COUNT', 'LEVEL2_%TESTED', 'LEVEL3_COUNT',\n",
       "       'LEVEL3_%TESTED',\n",
       "       ...\n",
       "       'LEVEL1_COUNT_total_cohort_math_subgroup',\n",
       "       'LEVEL1_%COHORT_total_cohort_math_subgroup',\n",
       "       'LEVEL2_COUNT_total_cohort_math_subgroup',\n",
       "       'LEVEL2_%COHORT_total_cohort_math_subgroup',\n",
       "       'LEVEL3_COUNT_total_cohort_math_subgroup',\n",
       "       'LEVEL3_%COHORT_total_cohort_math_subgroup',\n",
       "       'LEVEL4_COUNT_total_cohort_math_subgroup',\n",
       "       'LEVEL4_%COHORT_total_cohort_math_subgroup',\n",
       "       'NOT_TESTED_total_cohort_math_subgroup',\n",
       "       'NOT_TESTED_%COHORT_total_cohort_math_subgroup'],\n",
       "      dtype='object', length=388)"
      ]
     },
     "execution_count": 244,
     "metadata": {},
     "output_type": "execute_result"
    }
   ],
   "source": [
    "nys_denormalized.columns"
   ]
  },
  {
   "cell_type": "code",
   "execution_count": 256,
   "metadata": {},
   "outputs": [
    {
     "data": {
      "text/plain": [
       "JOHN F KENNEDY MIDDLE SCHOOL    4\n",
       "PARK AVENUE SCHOOL              4\n",
       "JOHN F KENNEDY SCHOOL           4\n",
       "LINCOLN SCHOOL                  3\n",
       "GEORGE WASHINGTON SCHOOL        3\n",
       "Name: ENTITY_NAME, dtype: int64"
      ]
     },
     "execution_count": 256,
     "metadata": {},
     "output_type": "execute_result"
    }
   ],
   "source": [
    "nys_denormalized['ENTITY_NAME'].value_counts().head(5)"
   ]
  },
  {
   "cell_type": "markdown",
   "metadata": {},
   "source": [
    "## Done with NYS, Now switching to NJ\n",
    "- note: skipped all regents & accountability #s for NY, may come back to them\n",
    "- also didn't us NY grad rate data, assume it's in the report card data as well.\n",
    "- also didn't use NYC stats"
   ]
  },
  {
   "cell_type": "code",
   "execution_count": 188,
   "metadata": {
    "collapsed": true
   },
   "outputs": [],
   "source": [
    "# nj tables\n",
    "nj_tables = [x for x in os.listdir('../prepared_data/') if x.find('nj_') > -1]"
   ]
  },
  {
   "cell_type": "code",
   "execution_count": 190,
   "metadata": {},
   "outputs": [],
   "source": [
    "# re-define function to generate a shortname from tablename:\n",
    "def shortname(s, kind ='nys'):\n",
    "    if kind == 'nys':\n",
    "        _ = s.lower()\n",
    "        strings_to_replace= ['(',')','&','-','nys_reportcard_','.csv','results']\n",
    "        for st in strings_to_replace:\n",
    "            _ = _.replace(st, '')\n",
    "        _ = '_'.join(_.split('_')[:4])\n",
    "        if _[-1] == '_':\n",
    "            _ = _[:-1]\n",
    "        return _\n",
    "    elif kind == 'nj':\n",
    "        strings_to_replace= ['nj_','.csv']\n",
    "        for st in strings_to_replace:\n",
    "            s = s.replace(st, '')\n",
    "        return s"
   ]
  },
  {
   "cell_type": "code",
   "execution_count": null,
   "metadata": {
    "collapsed": true
   },
   "outputs": [],
   "source": [
    "if 'nj_denormalized' in vars():\n",
    "    del nj_denormalized\n",
    "\n",
    "tables_to_skip = [\n",
    "    'SchoolHeader',\n",
    "    'EnrollmentTrendsByStudentGroup',\n",
    "    'EnrollmentByRacialEthnicGroup',\n",
    "    \n",
    "]\n",
    "\n",
    "# init with school names\n",
    "nj_denormalized = pd.read_csv('../prepared_data/nj_SchoolHeader.csv')\n",
    "\n",
    "for t in nj_tables:\n",
    "    table_shortname = shortname(t)\n",
    "    _df = pd.read_csv('../prepared_data/' + t)\n",
    "    \n",
    "    # logic to unstack common table patterns:\n",
    "    if table_shortname == 'EnrollmentTrendsByGrade'or table_shortname == 'PreKAndK-FullDayHalfDay':\n",
    "        _df = _df.pivot_table(\n",
    "            values = 'Count', \n",
    "            index = ['CountyCode','DistrictCode','SchoolCode'], \n",
    "            columns=['Grade']\n",
    "        ).reset_index()\n",
    "    \n",
    "    # data cleaning for all tables\n",
    "    _df.drop_duplicates(inplace=True)\n",
    "    \n",
    "    # table skipping\n",
    "    if list_contains(tables_to_skip, table_shortname):\n",
    "        print('skipping table ' + table_shortname)\n",
    "    else:\n",
    "        print('trying to join ' + table_shortname )\n",
    "        _tmp = nj_denormalized.merge(\n",
    "            right = _df, \n",
    "            how = 'outer',\n",
    "            on = ['CountyCode','DistrictCode','SchoolCode'],\n",
    "            suffixes = ['', '_' + table_shortname]\n",
    "        )\n",
    "        nj_denormalized = _tmp\n",
    "    del _df\n",
    "print('all tables joined!')"
   ]
  },
  {
   "cell_type": "code",
   "execution_count": 269,
   "metadata": {},
   "outputs": [],
   "source": [
    "_df = pd.read_csv('../prepared_data/nj_PreKAndK-FullDayHalfDay.csv')"
   ]
  },
  {
   "cell_type": "code",
   "execution_count": 270,
   "metadata": {},
   "outputs": [
    {
     "data": {
      "text/html": [
       "<div>\n",
       "<style>\n",
       "    .dataframe thead tr:only-child th {\n",
       "        text-align: right;\n",
       "    }\n",
       "\n",
       "    .dataframe thead th {\n",
       "        text-align: left;\n",
       "    }\n",
       "\n",
       "    .dataframe tbody tr th {\n",
       "        vertical-align: top;\n",
       "    }\n",
       "</style>\n",
       "<table border=\"1\" class=\"dataframe\">\n",
       "  <thead>\n",
       "    <tr style=\"text-align: right;\">\n",
       "      <th></th>\n",
       "      <th>CountyCode</th>\n",
       "      <th>DistrictCode</th>\n",
       "      <th>SchoolCode</th>\n",
       "      <th>Grade</th>\n",
       "      <th>Count</th>\n",
       "    </tr>\n",
       "  </thead>\n",
       "  <tbody>\n",
       "    <tr>\n",
       "      <th>0</th>\n",
       "      <td>1</td>\n",
       "      <td>10</td>\n",
       "      <td>60</td>\n",
       "      <td>KG - Full Day</td>\n",
       "      <td>90</td>\n",
       "    </tr>\n",
       "    <tr>\n",
       "      <th>1</th>\n",
       "      <td>1</td>\n",
       "      <td>10</td>\n",
       "      <td>60</td>\n",
       "      <td>KG - Half Day</td>\n",
       "      <td>0</td>\n",
       "    </tr>\n",
       "    <tr>\n",
       "      <th>2</th>\n",
       "      <td>1</td>\n",
       "      <td>10</td>\n",
       "      <td>60</td>\n",
       "      <td>PK - Full Day</td>\n",
       "      <td>25</td>\n",
       "    </tr>\n",
       "    <tr>\n",
       "      <th>3</th>\n",
       "      <td>1</td>\n",
       "      <td>10</td>\n",
       "      <td>60</td>\n",
       "      <td>PK - Half Day</td>\n",
       "      <td>0</td>\n",
       "    </tr>\n",
       "    <tr>\n",
       "      <th>4</th>\n",
       "      <td>1</td>\n",
       "      <td>110</td>\n",
       "      <td>30</td>\n",
       "      <td>KG - Full Day</td>\n",
       "      <td>62</td>\n",
       "    </tr>\n",
       "  </tbody>\n",
       "</table>\n",
       "</div>"
      ],
      "text/plain": [
       "   CountyCode  DistrictCode  SchoolCode          Grade  Count\n",
       "0           1            10          60  KG - Full Day     90\n",
       "1           1            10          60  KG - Half Day      0\n",
       "2           1            10          60  PK - Full Day     25\n",
       "3           1            10          60  PK - Half Day      0\n",
       "4           1           110          30  KG - Full Day     62"
      ]
     },
     "execution_count": 270,
     "metadata": {},
     "output_type": "execute_result"
    }
   ],
   "source": [
    "_df.head()"
   ]
  },
  {
   "cell_type": "code",
   "execution_count": null,
   "metadata": {
    "collapsed": true
   },
   "outputs": [],
   "source": []
  }
 ],
 "metadata": {
  "kernelspec": {
   "display_name": "Python 3",
   "language": "python",
   "name": "python3"
  },
  "language_info": {
   "codemirror_mode": {
    "name": "ipython",
    "version": 3
   },
   "file_extension": ".py",
   "mimetype": "text/x-python",
   "name": "python",
   "nbconvert_exporter": "python",
   "pygments_lexer": "ipython3",
   "version": "3.6.2"
  }
 },
 "nbformat": 4,
 "nbformat_minor": 2
}
