{
 "cells": [
  {
   "cell_type": "markdown",
   "metadata": {},
   "source": [
    "### Goals\n",
    "- find common stats between states\n",
    "- combine useful information between schools for analysis"
   ]
  },
  {
   "cell_type": "code",
   "execution_count": 37,
   "metadata": {
    "collapsed": true
   },
   "outputs": [],
   "source": [
    "import os\n",
    "\n",
    "import numpy as np\n",
    "import pandas as pd"
   ]
  },
  {
   "cell_type": "code",
   "execution_count": 2,
   "metadata": {
    "collapsed": true
   },
   "outputs": [],
   "source": [
    "# denormalize nys school-level data\n",
    "nys_grad_rate = pd.read_csv('../prepared_data/nys_grad_rate.csv')"
   ]
  },
  {
   "cell_type": "code",
   "execution_count": 3,
   "metadata": {},
   "outputs": [
    {
     "name": "stderr",
     "output_type": "stream",
     "text": [
      "/Users/josh.laurito/anaconda/envs/py36/lib/python3.6/site-packages/ipykernel_launcher.py:9: SettingWithCopyWarning: \n",
      "A value is trying to be set on a copy of a slice from a DataFrame\n",
      "\n",
      "See the caveats in the documentation: http://pandas.pydata.org/pandas-docs/stable/indexing.html#indexing-view-versus-copy\n",
      "  if __name__ == '__main__':\n"
     ]
    }
   ],
   "source": [
    "# 4 year results for all students for every school\n",
    "nys_grad_rate_by_school = nys_grad_rate[\n",
    "    (nys_grad_rate['AGGREGATION_TYPE'] == 'School') & \n",
    "    (nys_grad_rate['SUBGROUP_NAME'] == 'All Students') &\n",
    "    (nys_grad_rate['MEMBERSHIP_DESC'] == '2013 Total Cohort - 4 Year Outcome') \n",
    "]\n",
    "# note: a few schools are still in here twice. also, there is at least\n",
    "# one case of 2 schools with the same name (BEACON HIGH SCHOOL)\n",
    "nys_grad_rate_by_school.drop_duplicates(inplace=True)"
   ]
  },
  {
   "cell_type": "code",
   "execution_count": 4,
   "metadata": {
    "collapsed": true
   },
   "outputs": [],
   "source": [
    "# nys report card data tables\n",
    "nys_reportcard_tables = [x for x in os.listdir('../prepared_data/') if x.find('nys_report') > -1]\n"
   ]
  },
  {
   "cell_type": "code",
   "execution_count": 59,
   "metadata": {
    "collapsed": true
   },
   "outputs": [],
   "source": [
    "# function to define whether a row is school-level data\n",
    "def is_school(entity_cd):\n",
    "    id_string = str(entity_cd)\n",
    "    if len(id_string) < 12:\n",
    "        return False\n",
    "    elif id_string[-4:] == '0000':\n",
    "        return False\n",
    "    elif id_string == '111111111111':\n",
    "        return False\n",
    "    else:\n",
    "        return True\n",
    "\n",
    "# function to generate a shortname from tablename:\n",
    "def shortname(s):\n",
    "    _ = s.lower()\n",
    "    strings_to_replace= ['(',')','&','-','nys_reportcard_','.csv','results']\n",
    "    for st in strings_to_replace:\n",
    "        _ = _.replace(st, '')\n",
    "    _ = '_'.join(_.split('_')[:4])\n",
    "    if _[-1] == '_':\n",
    "        _ = _[:-1]\n",
    "    return _\n",
    "\n",
    "# function to see if item is in list\n",
    "def list_contains(my_list, item):\n",
    "    try:\n",
    "        my_list.index(item)\n",
    "        return True\n",
    "    except ValueError:\n",
    "        return False"
   ]
  },
  {
   "cell_type": "code",
   "execution_count": 60,
   "metadata": {},
   "outputs": [
    {
     "name": "stdout",
     "output_type": "stream",
     "text": [
      "initializing table with science8_subgroup\n",
      "trying to join total_cohort_global_hist\n",
      "trying to join attendance_and_suspensions\n"
     ]
    },
    {
     "name": "stderr",
     "output_type": "stream",
     "text": [
      "/Users/josh.laurito/anaconda/envs/py36/lib/python3.6/site-packages/ipykernel_launcher.py:50: SettingWithCopyWarning: \n",
      "A value is trying to be set on a copy of a slice from a DataFrame\n",
      "\n",
      "See the caveats in the documentation: http://pandas.pydata.org/pandas-docs/stable/indexing.html#indexing-view-versus-copy\n"
     ]
    },
    {
     "name": "stdout",
     "output_type": "stream",
     "text": [
      "skipping table new_york_state_alternate\n",
      "trying to join institution_grouping\n",
      "skipping table regents_examination_annual\n",
      "trying to join boces_and_nrc\n"
     ]
    },
    {
     "name": "stderr",
     "output_type": "stream",
     "text": [
      "/Users/josh.laurito/anaconda/envs/py36/lib/python3.6/site-packages/IPython/core/interactiveshell.py:2698: DtypeWarning: Columns (6,7,13) have mixed types. Specify dtype option on import or set low_memory=False.\n",
      "  interactivity=interactivity, compiler=compiler, result=result)\n"
     ]
    },
    {
     "name": "stdout",
     "output_type": "stream",
     "text": [
      "trying to join accountability\n",
      "trying to join ela5_subgroup\n",
      "trying to join total_cohort_us_hist\n",
      "trying to join math8_subgroup\n",
      "trying to join math7_subgroup\n",
      "trying to join average_class_size\n",
      "skipping table nyseslat_annual\n",
      "trying to join ela4_subgroup\n",
      "trying to join beds_day_enrollment_by\n",
      "trying to join math3_subgroup\n",
      "trying to join math6_subgroup\n",
      "trying to join math5_subgroup\n",
      "skipping table regents_competency_test_rct\n",
      "trying to join staff\n",
      "trying to join ela8_subgroup\n",
      "trying to join ela7_subgroup\n",
      "trying to join total_cohort_graduation_rate\n",
      "trying to join high_school_postgraduation_plans\n",
      "trying to join beds_day_enrollment\n",
      "trying to join math4_subgroup\n",
      "trying to join demographic_factors\n",
      "trying to join high_school_completers\n",
      "skipping table regents_common_core_examination\n",
      "skipping table recently_arrived_ell_students\n",
      "trying to join ela6_subgroup\n",
      "trying to join science4_subgroup\n",
      "trying to join ela3_subgroup\n",
      "trying to join total_cohort_ela_subgroup\n",
      "trying to join total_cohort_science_subgroup\n",
      "trying to join high_school_noncompleters\n",
      "trying to join total_cohort_math_subgroup\n",
      "all tables joined!\n"
     ]
    }
   ],
   "source": [
    "# denormalize NYS reportcard data\n",
    "tables_to_skip = [\n",
    "    'new_york_state_alternate',\n",
    "    'regents_examination_annual',\n",
    "    'nyseslat_annual',\n",
    "    'regents_competency_test_rct',\n",
    "    'regents_common_core_examination',\n",
    "    'recently_arrived_ell_students'\n",
    "]\n",
    "\n",
    "if 'nys_denormalized' in vars():\n",
    "    del nys_denormalized\n",
    "\n",
    "for t in nys_reportcard_tables:\n",
    "    table_shortname = shortname(t)\n",
    "    _df = pd.read_csv('../prepared_data/' + t)\n",
    "    \n",
    "    # logic to account for naming inconsistencies\n",
    "    # and only gathering school-level data and\n",
    "    # all-student data when appropriate\n",
    "    if table_shortname == 'accountability':\n",
    "        _df.rename( columns={'ACC_YEAR': 'YEAR', 'ACC_NAME': 'SUBGROUP_NAME'}, inplace=True)\n",
    "        _df = _df[['ENTITY_CD','ENTITY_NAME', 'YEAR','SUBGROUP_NAME', 'ACCOUNTABILITYMEASURE', 'PI_G_RATE']]\n",
    "        _df = _df[_df['ENTITY_CD'].apply(lambda x: is_school(x))]\n",
    "        _df = _df[_df['YEAR'] == 2016]\n",
    "        _df = _df[(_df['ACCOUNTABILITYMEASURE'] == '5-Year Graduation Rate') | \n",
    "                  (_df['ACCOUNTABILITYMEASURE'] =='4-Year Graduation Rate')\n",
    "        ]\n",
    "        _df = _df[_df['SUBGROUP_NAME'] == 'All Students']\n",
    "        _df.drop('SUBGROUP_NAME', axis=1, inplace = True)        \n",
    "        _df['PI_G_RATE'] = pd.to_numeric(_df['PI_G_RATE'].replace('s', np.nan))\n",
    "        _df = _df.pivot_table(\n",
    "            values = 'PI_G_RATE', \n",
    "            index = ['ENTITY_CD','ENTITY_NAME', 'YEAR'], \n",
    "            columns=['ACCOUNTABILITYMEASURE']\n",
    "        ).reset_index()\n",
    "        \n",
    "    if table_shortname == 'institution_grouping' or table_shortname[:13] == 'total_cohort_':\n",
    "        _df['YEAR'] = 2016\n",
    "    if table_shortname[:13] == 'total_cohort_':\n",
    "        single_cohort = _df[_df['COHORT'] == 2013]\n",
    "        if len(single_cohort) > 0:\n",
    "            _df = single_cohort\n",
    "        else:\n",
    "            _df = _df[_df['COHORT'] == 2012]\n",
    "    if table_shortname == 'boces_and_nrc' or table_shortname == 'staff':\n",
    "        _df.rename( columns={'SCHOOL_NAME': 'ENTITY_NAME'}, inplace=True)\n",
    "    if _df.columns.contains('SUBGROUP_NAME'):\n",
    "        _df = _df[_df['SUBGROUP_NAME'] == 'All Students']\n",
    "        _df.drop('SUBGROUP_NAME', axis=1, inplace = True)\n",
    "        \n",
    "    # data cleaning for all tables\n",
    "    _df = _df[_df['ENTITY_CD'].apply(lambda x: is_school(x))]\n",
    "    _df = _df[_df['YEAR'] == 2016]\n",
    "    _df.drop_duplicates(inplace=True)\n",
    "    \n",
    "    # initialization and table skipping\n",
    "    if 'nys_denormalized' not in vars():\n",
    "        nys_denormalized = _df\n",
    "        print('initializing table with ' + table_shortname)\n",
    "    elif list_contains(tables_to_skip, table_shortname):\n",
    "        print('skipping table ' + table_shortname)\n",
    "    else:\n",
    "        print('trying to join ' + table_shortname )\n",
    "        _tmp = nys_denormalized.merge(\n",
    "            right = _df, \n",
    "            how = 'outer',\n",
    "            on = ['ENTITY_CD','ENTITY_NAME', 'YEAR'],\n",
    "            suffixes = ['', '_' + table_shortname]\n",
    "        )\n",
    "        nys_denormalized = _tmp\n",
    "    del _df\n",
    "print('all tables joined!')"
   ]
  },
  {
   "cell_type": "code",
   "execution_count": 44,
   "metadata": {},
   "outputs": [
    {
     "data": {
      "text/plain": [
       "Index(['ENTITY_CD', 'ENTITY_NAME', 'YEAR', 'NUM_TESTED', 'LEVEL1_COUNT',\n",
       "       'LEVEL1_%TESTED', 'LEVEL2_COUNT', 'LEVEL2_%TESTED', 'LEVEL3_COUNT',\n",
       "       'LEVEL3_%TESTED',\n",
       "       ...\n",
       "       'LEVEL1_COUNT_total_cohort_math_subgroup',\n",
       "       'LEVEL1_%COHORT_total_cohort_math_subgroup',\n",
       "       'LEVEL2_COUNT_total_cohort_math_subgroup',\n",
       "       'LEVEL2_%COHORT_total_cohort_math_subgroup',\n",
       "       'LEVEL3_COUNT_total_cohort_math_subgroup',\n",
       "       'LEVEL3_%COHORT_total_cohort_math_subgroup',\n",
       "       'LEVEL4_COUNT_total_cohort_math_subgroup',\n",
       "       'LEVEL4_%COHORT_total_cohort_math_subgroup',\n",
       "       'NOT_TESTED_total_cohort_math_subgroup',\n",
       "       'NOT_TESTED_%COHORT_total_cohort_math_subgroup'],\n",
       "      dtype='object', length=375)"
      ]
     },
     "execution_count": 44,
     "metadata": {},
     "output_type": "execute_result"
    }
   ],
   "source": [
    "nys_denormalized.columns"
   ]
  },
  {
   "cell_type": "code",
   "execution_count": 78,
   "metadata": {},
   "outputs": [],
   "source": [
    "#nys_denormalized['ENTITY_NAME'].value_counts().head(5)\n",
    "\n",
    "nys_denormalized[nys_denormalized['ENTITY_NAME'] == 'JOHN F KENNEDY MIDDLE SCHOOL'].to_csv('tmp.csv')"
   ]
  },
  {
   "cell_type": "markdown",
   "metadata": {},
   "source": [
    "## Done with NYS, Now switching to NJ\n",
    "- note: skipped all regents & accountability #s for NY, may come back to them\n",
    "- also didn't us NY grad rate data, assume it's in the report card data as well.\n",
    "- also didn't use NYC stats"
   ]
  },
  {
   "cell_type": "code",
   "execution_count": 46,
   "metadata": {
    "collapsed": true
   },
   "outputs": [],
   "source": [
    "# nj tables\n",
    "nj_tables = [x for x in os.listdir('../prepared_data/') if x.find('nj_') > -1]"
   ]
  },
  {
   "cell_type": "code",
   "execution_count": 112,
   "metadata": {
    "collapsed": true
   },
   "outputs": [],
   "source": [
    "# re-define function to generate a shortname from tablename:\n",
    "def shortname(s, kind ='nys'):\n",
    "    if kind == 'nys':\n",
    "        _ = s.lower()\n",
    "        strings_to_replace= ['(',')','&','-','nys_reportcard_','.csv','results']\n",
    "        for st in strings_to_replace:\n",
    "            _ = _.replace(st, '')\n",
    "        _ = '_'.join(_.split('_')[:4])\n",
    "        if _[-1] == '_':\n",
    "            _ = _[:-1]\n",
    "        return _\n",
    "    elif kind == 'nj':\n",
    "        strings_to_replace= ['nj_','.csv']\n",
    "        for st in strings_to_replace:\n",
    "            s = s.replace(st, '')\n",
    "        return s\n",
    "\n",
    "# Set nulls in cells with odd ways of saying that they don't have data\n",
    "def force_to_numeric_with_nulls(series, values_to_set_to_null):\n",
    "    _ = series\n",
    "    for v in values_to_set_to_null:\n",
    "        _ = _.replace(v, np.nan)\n",
    "    return pd.to_numeric(_)"
   ]
  },
  {
   "cell_type": "code",
   "execution_count": 130,
   "metadata": {},
   "outputs": [
    {
     "name": "stdout",
     "output_type": "stream",
     "text": [
      "skipping table StudentGrowthByPerformLevel\n",
      "trying to join PostsecondaryEnrRatesFall\n",
      "skipping table MathCourseParticipation\n",
      "trying to join PSAT-SAT-ACTParticipation\n",
      "skipping table DropoutRateTrends\n",
      "skipping table APIBCourseworkPartPerf\n",
      "trying to join TechnologyReadiness\n",
      "skipping table EnglishLanguageProficiencyTest\n",
      "trying to join ELALiteracyPerformanceByGrade\n",
      "skipping table ViolenceVandalismHIBSubstanceOf\n",
      "skipping table SocStudiesHistoryCourseParticip\n",
      "skipping table TeachersAdminsLevelOfEducation\n",
      "trying to join EnrollmentTrendsByGrade\n",
      "skipping table EnrollmentByHomeLanguage\n",
      "trying to join ELALiteracyParticipationPerform\n",
      "skipping table CTE_SLEParticipation\n",
      "trying to join StudentSuspensionRates\n",
      "skipping table EnrollmentTrendsByStudentGroup\n",
      "trying to join Narrative\n",
      "skipping table VisualAndPerformingArts\n",
      "skipping table AccountabilitySummary\n",
      "skipping table ChronicAbsByGrade\n",
      "trying to join APIBCoursesOffered\n",
      "skipping table TeachersExperienceCertification\n",
      "skipping table IndustryValuedCredentialsEarned\n",
      "skipping table FacultyAttendance\n",
      "trying to join PreKAndK-FullDayHalfDay\n",
      "skipping table AccountabilityIndicator\n",
      "skipping table NJASKScience\n",
      "trying to join PSAT-SAT-ACTPerformance\n",
      "skipping table DaysAbsent\n",
      "skipping table TeachersAdminsOneYearRetention\n",
      "trying to join MathParticipationPerform\n",
      "skipping table PerPupilExpenditures\n",
      "trying to join ELAPerformanceTrends\n",
      "skipping table StudentGrowthByGrade\n",
      "skipping table AdministratorsExperience\n",
      "skipping table StudentExpulsions\n",
      "skipping table StudentGrowth\n",
      "skipping table ScienceCourseParticipation\n",
      "skipping table EnrollmentByRacialEthnicGroup\n",
      "skipping table SchoolHeader\n",
      "skipping table StudentToStaffRatios\n",
      "skipping table GraduationRateTrends\n",
      "trying to join MathPerformanceByGradeTest\n",
      "skipping table ChronicAbsenteeism\n",
      "skipping table WorldLanguagesCourseParticipati\n",
      "skipping table AlternateAssessmentParticipatio\n",
      "skipping table SchoolDay\n",
      "trying to join GraduationRates\n",
      "trying to join EnrollmentTrendsFullSharedTime\n",
      "trying to join MathPerformanceTrends\n",
      "skipping table Biology\n",
      "trying to join PostsecondaryEnrRates16mos\n",
      "all tables joined!\n"
     ]
    }
   ],
   "source": [
    "if 'nj_denormalized' in vars():\n",
    "    del nj_denormalized\n",
    "\n",
    "tables_to_skip = [\n",
    "    'SchoolHeader',\n",
    "    'EnrollmentTrendsByStudentGroup',\n",
    "    'EnrollmentByRacialEthnicGroup',\n",
    "    'EnrollmentByHomeLanguage',\n",
    "    'AlternateAssessmentParticipatio',\n",
    "    'EnglishLanguageProficiencyTest',\n",
    "    'NJASKScience',\n",
    "    'StudentGrowth',\n",
    "    'StudentGrowthByPerformLevel',\n",
    "    'StudentGrowthByGrade',\n",
    "    'CTE_SLEParticipation',\n",
    "    'APIBCourseworkPartPerf',\n",
    "    'IndustryValuedCredentialsEarned',\n",
    "    'MathCourseParticipation',\n",
    "    'ScienceCourseParticipation',\n",
    "    'SocStudiesHistoryCourseParticip',\n",
    "    'WorldLanguagesCourseParticipati',\n",
    "    'VisualAndPerformingArts',\n",
    "    'StudentGrowthByPerformLevel',\n",
    "    'GraduationRateTrends',\n",
    "    'DropoutRateTrends',\n",
    "    'ChronicAbsenteeism',\n",
    "    'DaysAbsent',\n",
    "    'ChronicAbsByGrade',\n",
    "    'SchoolDay',\n",
    "    'ViolenceVandalismHIBSubstanceOf',\n",
    "    'StudentExpulsions',\n",
    "    'PerPupilExpenditures',\n",
    "    'TeachersExperienceCertification',\n",
    "    'AdministratorsExperience',\n",
    "    'StudentToStaffRatios',\n",
    "    'TeachersAdminsLevelOfEducation',\n",
    "    'TeachersAdminsOneYearRetention',\n",
    "    'FacultyAttendance',\n",
    "    'AccountabilityIndicator',\n",
    "    'AccountabilitySummary',\n",
    "    'StudentGrowthByPerformLevel',\n",
    "    'Biology'\n",
    "]\n",
    "\n",
    "tables_just_need_pivoting = [\n",
    "    'PreKAndK-FullDayHalfDay',\n",
    "    'EnrollmentTrendsFullSharedTime',\n",
    "    'EnrollmentTrendsByGrade'\n",
    "]\n",
    "\n",
    "# init with school names\n",
    "nj_denormalized = pd.read_csv('../prepared_data/nj_SchoolHeader.csv')\n",
    "nj_denormalized.rename(columns={\n",
    "    'COUNTY_CODE': 'County Code',\n",
    "    'DISTRICT_CODE': 'District Code',\n",
    "    'SCHOOL_CODE': 'School Code'\n",
    "}, inplace=True)\n",
    "\n",
    "for t in nj_tables:\n",
    "    pivot_flag = False\n",
    "    table_shortname = shortname(t, 'nj')\n",
    "    if list_contains(tables_just_need_pivoting, table_shortname):\n",
    "        pivot_flag = True\n",
    "    _df = pd.read_csv('../prepared_data/' + t)\n",
    "    _df.rename( columns={\n",
    "        'StudentGroup': 'Student Group', \n",
    "        'CountyCode': 'County Code',\n",
    "        'DistrictCode': 'District Code',\n",
    "        'SchoolCode': 'School Code',\n",
    "        'Student_Group': 'Student Group', \n",
    "        'County_Code': 'County Code',\n",
    "        'District_Code': 'District Code',\n",
    "        'School_Code': 'School Code',\n",
    "        'COUNTY_CODE': 'County Code',\n",
    "        'DISTRICT_CODE': 'District Code',\n",
    "        'SCHOOL_CODE': 'School Code',\n",
    "        'MeanScore': 'Mean Score',\n",
    "        'Mean_Score': 'Mean Score',\n",
    "        'SchoolPerformance': 'School Performance',\n",
    "        'School_Performance': 'School Performance',\n",
    "        'Grade_Subject': 'Grade Subject',\n",
    "        'Course_Name': 'Course Name',\n",
    "        'School_Avg': 'School Avg'\n",
    "    }, inplace=True)\n",
    "    \n",
    "    # logic to filter down to schoolwide performance\n",
    "    if _df.columns.contains('Student Group'):\n",
    "        _df = _df[_df['Student Group']=='Schoolwide']\n",
    "        _df.drop('Student Group', axis=1, inplace=True)\n",
    "    \n",
    "    # table-specific logic\n",
    "    if table_shortname[-20:] == 'ParticipationPerform':\n",
    "        _df = _df[['County Code','District Code','School Code', 'Subject', 'School Performance']]\n",
    "        _df['School Performance'] = force_to_numeric_with_nulls(_df['School Performance'], ['N','*'])\n",
    "        pivot_flag = True\n",
    "    \n",
    "    if table_shortname[-18:] == 'PerformanceByGrade':\n",
    "        _df = _df[['County Code','District Code','School Code', 'Grade', 'Mean Score']]\n",
    "        _df['Mean Score'] = force_to_numeric_with_nulls(_df['Mean Score'], ['N','*'])\n",
    "        pivot_flag = True\n",
    "        \n",
    "    if table_shortname[-17:] =='PerformanceTrends':\n",
    "        _df = _df[['County Code','District Code','School Code', 'Grade Subject', 'MetExcExpPerc']]\n",
    "        _df['MetExcExpPerc'] = force_to_numeric_with_nulls(_df['MetExcExpPerc'], ['N','*'])\n",
    "        pivot_flag = True\n",
    "        \n",
    "    if table_shortname == 'PSAT-SAT-ACTPerformance':\n",
    "        _df['Test Subject'] = _df[['Test', 'Subject']].apply(lambda x: x[0] + ' - ' + x[1], axis = 1)\n",
    "        _df = _df[['County Code','District Code','School Code', 'Test Subject', 'School Avg']]\n",
    "        _df['School Avg'] = force_to_numeric_with_nulls(_df['School Avg'], ['N', '*'])\n",
    "        pivot_flag = True\n",
    "        \n",
    "    if table_shortname == 'GraduationRates':\n",
    "        _df = _df[['County Code','District Code','School Code',  \n",
    "                   'School-Class of 2017: 4-Year Rate','School-Class of 2016: 5-Year Rate']]\n",
    "        \n",
    "    if table_shortname == 'PostsecondaryEnrRatesFall':\n",
    "        _df = _df[['County Code','District Code','School Code', 'EnrolledPercent','Enrolled2Yr','Enrolled4Yr']]\n",
    "        \n",
    "    if table_shortname == 'APIBCoursesOffered':\n",
    "        _df = _df[\n",
    "            ['County Code','District Code','School Code', 'Course Name']\n",
    "        ][_df['STUDENT_ENROLL_COUNT'] >0].groupby(\n",
    "            ['County Code','District Code','School Code']\n",
    "        ).count().reset_index()\n",
    "    \n",
    "    if table_shortname == 'MathPerformanceByGradeTest':\n",
    "        _df = _df[['County Code','District Code','School Code','Grade', 'Mean Score']]\n",
    "        _df['Mean Score'] = force_to_numeric_with_nulls(_df['Mean Score'], ['N', '*'])\n",
    "        pivot_flag = True\n",
    "    # logic to unstack common table pattern:\n",
    "    if pivot_flag:\n",
    "        pivot_by = _df.columns[3]\n",
    "        value_by = _df.columns[4]\n",
    "        _df = _df.pivot_table(\n",
    "            values = value_by, \n",
    "            index = ['County Code','District Code','School Code'], \n",
    "            columns=[pivot_by]\n",
    "        ).reset_index()\n",
    "\n",
    "    # data cleaning for all tables\n",
    "    _df.drop_duplicates(inplace=True)\n",
    "    \n",
    "    # table skipping\n",
    "    if list_contains(tables_to_skip, table_shortname):\n",
    "        print('skipping table ' + table_shortname)\n",
    "    else:\n",
    "        print('trying to join ' + table_shortname )\n",
    "        _tmp = nj_denormalized.merge(\n",
    "            right = _df, \n",
    "            how = 'outer',\n",
    "            on = ['County Code','District Code','School Code'],\n",
    "            suffixes = ['', '_' + table_shortname]\n",
    "        )\n",
    "        nj_denormalized = _tmp\n",
    "    del _df\n",
    "print('all tables joined!')"
   ]
  },
  {
   "cell_type": "code",
   "execution_count": 139,
   "metadata": {
    "collapsed": true
   },
   "outputs": [],
   "source": [
    "# write tables for the next job: joining common fields\n",
    "nys_denormalized.to_csv('../prepared_data/denormalized_newyork.csv')\n",
    "nj_denormalized.to_csv('../prepared_data/denormalized_newjersey.csv')"
   ]
  },
  {
   "cell_type": "code",
   "execution_count": null,
   "metadata": {
    "collapsed": true
   },
   "outputs": [],
   "source": []
  }
 ],
 "metadata": {
  "kernelspec": {
   "display_name": "Python 3",
   "language": "python",
   "name": "python3"
  },
  "language_info": {
   "codemirror_mode": {
    "name": "ipython",
    "version": 3
   },
   "file_extension": ".py",
   "mimetype": "text/x-python",
   "name": "python",
   "nbconvert_exporter": "python",
   "pygments_lexer": "ipython3",
   "version": "3.6.2"
  }
 },
 "nbformat": 4,
 "nbformat_minor": 2
}
