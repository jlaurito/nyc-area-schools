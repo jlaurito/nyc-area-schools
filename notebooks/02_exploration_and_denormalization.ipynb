{
 "cells": [
  {
   "cell_type": "markdown",
   "metadata": {},
   "source": [
    "### Goals\n",
    "- find common stats between states\n",
    "- combine useful information between schools for analysis"
   ]
  },
  {
   "cell_type": "code",
   "execution_count": 1,
   "metadata": {},
   "outputs": [],
   "source": [
    "import os\n",
    "\n",
    "import pandas as pd"
   ]
  },
  {
   "cell_type": "code",
   "execution_count": 13,
   "metadata": {},
   "outputs": [],
   "source": [
    "# denormalize nys school-level data\n",
    "nys_grad_rate = pd.read_csv('../prepared_data/nys_grad_rate.csv')"
   ]
  },
  {
   "cell_type": "code",
   "execution_count": 75,
   "metadata": {},
   "outputs": [
    {
     "name": "stderr",
     "output_type": "stream",
     "text": [
      "/Users/jlaurito/anaconda3/envs/jl/lib/python3.6/site-packages/ipykernel_launcher.py:9: SettingWithCopyWarning: \n",
      "A value is trying to be set on a copy of a slice from a DataFrame\n",
      "\n",
      "See the caveats in the documentation: http://pandas.pydata.org/pandas-docs/stable/indexing.html#indexing-view-versus-copy\n",
      "  if __name__ == '__main__':\n"
     ]
    }
   ],
   "source": [
    "# 4 year results for all students for every school\n",
    "nys_grad_rate_by_school = nys_grad_rate[\n",
    "    (nys_grad_rate['AGGREGATION_TYPE'] == 'School') & \n",
    "    (nys_grad_rate['SUBGROUP_NAME'] == 'All Students') &\n",
    "    (nys_grad_rate_by_school['MEMBERSHIP_DESC'] == '2013 Total Cohort - 4 Year Outcome') \n",
    "]\n",
    "# note: a few schools are still in here twice. also, there is at least\n",
    "# one case of 2 schools with the same name (BEACON HIGH SCHOOL)\n",
    "nys_grad_rate_by_school.drop_duplicates(inplace=True)"
   ]
  },
  {
   "cell_type": "code",
   "execution_count": 108,
   "metadata": {},
   "outputs": [],
   "source": [
    "# nys report card data tables\n",
    "nys_reportcard_tables = [x for x in os.listdir('../prepared_data/') if x.find('nys_report') > -1]\n"
   ]
  },
  {
   "cell_type": "code",
   "execution_count": 124,
   "metadata": {},
   "outputs": [],
   "source": [
    "# function to define whether a row is school-level data\n",
    "def is_school(entity_cd):\n",
    "    id_string = str(entity_cd)\n",
    "    if len(id_string) < 12:\n",
    "        return False\n",
    "    if id_string[-4:] == '0000':\n",
    "        return False\n",
    "    else:\n",
    "        return True\n",
    "\n",
    "# function to generate a shortname from tablename:\n",
    "def shortname(s):\n",
    "    _ = s.lower()\n",
    "    strings_to_replace= ['(',')','&','-','nys_reportcard_','.csv','results']\n",
    "    for st in strings_to_replace:\n",
    "        _ = _.replace(st, '')\n",
    "    _ = '_'.join(_.split('_')[:4])\n",
    "    if _[-1] == '_':\n",
    "        _ = _[:-1]\n",
    "    return _"
   ]
  },
  {
   "cell_type": "code",
   "execution_count": 130,
   "metadata": {},
   "outputs": [
    {
     "name": "stdout",
     "output_type": "stream",
     "text": [
      "already defined\n",
      "already defined\n",
      "already defined\n",
      "already defined\n",
      "already defined\n",
      "already defined\n"
     ]
    },
    {
     "name": "stderr",
     "output_type": "stream",
     "text": [
      "/Users/jlaurito/anaconda3/envs/jl/lib/python3.6/site-packages/IPython/core/interactiveshell.py:2728: DtypeWarning: Columns (6,7,13) have mixed types. Specify dtype option on import or set low_memory=False.\n",
      "  interactivity=interactivity, compiler=compiler, result=result)\n"
     ]
    },
    {
     "name": "stdout",
     "output_type": "stream",
     "text": [
      "already defined\n",
      "already defined\n",
      "already defined\n",
      "already defined\n",
      "already defined\n",
      "already defined\n",
      "already defined\n",
      "already defined\n",
      "already defined\n",
      "already defined\n",
      "already defined\n",
      "already defined\n",
      "already defined\n",
      "already defined\n",
      "already defined\n",
      "already defined\n",
      "already defined\n",
      "already defined\n",
      "already defined\n",
      "already defined\n",
      "already defined\n",
      "already defined\n",
      "already defined\n",
      "already defined\n",
      "already defined\n",
      "already defined\n",
      "already defined\n",
      "already defined\n",
      "already defined\n",
      "already defined\n",
      "already defined\n"
     ]
    }
   ],
   "source": [
    "# denormalize NYS reportcard data\n",
    "\n",
    "for t in nys_reportcard_tables:\n",
    "    table_shortname = shortname(t)\n",
    "    _df = pd.read_csv('../prepared_data/' + t)\n",
    "    \n",
    "    # logic to account for naming inconsistencies\n",
    "    \n",
    "    if 'nys_denormalized' not in vars():\n",
    "        nys_denormalized = _df\n",
    "    else:\n",
    "        \n",
    "    del _df"
   ]
  },
  {
   "cell_type": "code",
   "execution_count": null,
   "metadata": {},
   "outputs": [],
   "source": []
  }
 ],
 "metadata": {
  "kernelspec": {
   "display_name": "Python 3",
   "language": "python",
   "name": "python3"
  },
  "language_info": {
   "codemirror_mode": {
    "name": "ipython",
    "version": 3
   },
   "file_extension": ".py",
   "mimetype": "text/x-python",
   "name": "python",
   "nbconvert_exporter": "python",
   "pygments_lexer": "ipython3",
   "version": "3.6.4"
  }
 },
 "nbformat": 4,
 "nbformat_minor": 2
}
