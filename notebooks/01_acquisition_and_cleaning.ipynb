{
 "cells": [
  {
   "cell_type": "markdown",
   "metadata": {},
   "source": [
    "## NYC Area School Research\n",
    "\n",
    "### Goals for this notebook:\n",
    "- Gather all information from nyc, westchester, NJ (and maybe LI & CT) Schools\n",
    "- flatten format to csvs"
   ]
  },
  {
   "cell_type": "code",
   "execution_count": 4,
   "metadata": {},
   "outputs": [],
   "source": [
    "import os\n",
    "import pyodbc\n",
    "import requests\n",
    "import subprocess\n",
    "import zipfile\n",
    "\n",
    "import pandas as pd\n"
   ]
  },
  {
   "cell_type": "code",
   "execution_count": 12,
   "metadata": {},
   "outputs": [],
   "source": [
    "# make dirs for data if not there\n",
    "dir_list = ['../data_documentation','../data','../prepared_data']\n",
    "existing_dirs = os.listdir('../')\n",
    "for d in dir_list:\n",
    "    if not os.path.exists(d):\n",
    "        os.mkdir(d)"
   ]
  },
  {
   "cell_type": "code",
   "execution_count": 13,
   "metadata": {},
   "outputs": [],
   "source": [
    "# convenience function to check for local version of file\n",
    "def download_if_not_local(url, local_dir_for_data=\".\"):\n",
    "    filename = url.split(\"/\")[-1]\n",
    "    local_data_files = os.listdir(local_dir_for_data)\n",
    "    try:\n",
    "        os.listdir(local_dir_for_data).index(filename)\n",
    "        print(filename + \" present locally\")\n",
    "    except ValueError:\n",
    "        print(\"Downloading \" + filename)\n",
    "        response = requests.get(url)\n",
    "        with open(local_dir_for_data + \"/\" + filename, \"wb\") as f:\n",
    "            f.write(response.content)\n",
    "        print(filename + \" downloaded\")"
   ]
  },
  {
   "cell_type": "code",
   "execution_count": 14,
   "metadata": {},
   "outputs": [
    {
     "name": "stdout",
     "output_type": "stream",
     "text": [
      "Downloading PerformanceReports.xlsx\n",
      "PerformanceReports.xlsx downloaded\n"
     ]
    }
   ],
   "source": [
    "# NJ Data\n",
    "download_if_not_local(\n",
    "    url=\"https://rc.doe.state.nj.us/ReportsDatabase/PerformanceReports.xlsx\",\n",
    "    local_dir_for_data=\"../data\"\n",
    ")"
   ]
  },
  {
   "cell_type": "code",
   "execution_count": 15,
   "metadata": {},
   "outputs": [
    {
     "name": "stdout",
     "output_type": "stream",
     "text": [
      "Downloading 3-8-2016-17.zip\n",
      "3-8-2016-17.zip downloaded\n"
     ]
    }
   ],
   "source": [
    "# NYS 3-8 Assessment\n",
    "download_if_not_local(\n",
    "    url=\"https://data.nysed.gov/files/assessment/16-17/3-8-2016-17.zip\",\n",
    "    local_dir_for_data=\"../data\"\n",
    ")"
   ]
  },
  {
   "cell_type": "code",
   "execution_count": 16,
   "metadata": {},
   "outputs": [
    {
     "name": "stdout",
     "output_type": "stream",
     "text": [
      "Downloading SRC2017.zip\n",
      "SRC2017.zip downloaded\n"
     ]
    }
   ],
   "source": [
    "# NYS Report Card database\n",
    "download_if_not_local(\n",
    "    url=\"https://data.nysed.gov/files/reportcards/16-17/SRC2017.zip\",\n",
    "    local_dir_for_data=\"../data\"\n",
    ")"
   ]
  },
  {
   "cell_type": "code",
   "execution_count": 17,
   "metadata": {},
   "outputs": [
    {
     "name": "stdout",
     "output_type": "stream",
     "text": [
      "Downloading gradrate_2017.zip\n",
      "gradrate_2017.zip downloaded\n"
     ]
    }
   ],
   "source": [
    "# NYS Grad Rate Database\n",
    "download_if_not_local(\n",
    "    url=\"https://data.nysed.gov/files/gradrate/16-17/gradrate_2017.zip\",\n",
    "    local_dir_for_data=\"../data\"\n",
    ")"
   ]
  },
  {
   "cell_type": "code",
   "execution_count": 18,
   "metadata": {},
   "outputs": [],
   "source": [
    "# unzip files (key), select file name (value[0])\n",
    "# write to file (value[1])\n",
    "zipped_files = {\n",
    "    'gradrate_2017.zip' : ['GRAD_RATE_AND_OUTCOMES_2017.csv', 'nys_grad_rate.csv'],\n",
    "    'SRC2017.zip' : ['SRC2017GroupIIRelease.mdb', 'nys_school_report_card.mdb'],\n",
    "    '3-8-2016-17.zip' : ['3-8_ELA_AND_MATH_RESEARCHER_FILE_2017.csv', 'nys_grades_3_to_8.csv']\n",
    "}\n"
   ]
  },
  {
   "cell_type": "code",
   "execution_count": 19,
   "metadata": {},
   "outputs": [
    {
     "name": "stdout",
     "output_type": "stream",
     "text": [
      "nys_grad_rate.csv extracted\n",
      "None\n",
      "nys_school_report_card.mdb extracted\n",
      "None\n",
      "nys_grades_3_to_8.csv extracted\n",
      "None\n"
     ]
    }
   ],
   "source": [
    "# unzip & rename\n",
    "for z in zipped_files.keys():\n",
    "    name_list = zipped_files.get(z)\n",
    "    try:\n",
    "        os.listdir('../data').index(name_list[1])\n",
    "        print(name_list[1] + \" present locally\")\n",
    "    except ValueError:\n",
    "        target = zipfile.ZipFile('../data/' + z)\n",
    "        with open('../data/' + name_list[1], 'wb') as output_file:\n",
    "            output_file.write(target.read(name_list[0]))\n",
    "        print(print(name_list[1] + \" extracted\"))"
   ]
  },
  {
   "cell_type": "code",
   "execution_count": 20,
   "metadata": {},
   "outputs": [
    {
     "data": {
      "text/plain": [
       "0"
      ]
     },
     "execution_count": 20,
     "metadata": {},
     "output_type": "execute_result"
    }
   ],
   "source": [
    "# prep data into csvs for manipulation\n",
    "# 1 Already prepped data\n",
    "os.system('cp ../data/nys_grad_rate.csv ../prepared_data/nys_grad_rate.csv')\n",
    "os.system('cp ../data/nys_grades_3_to_8.csv ../prepared_data/nys_grades_3_to_8.csv')"
   ]
  },
  {
   "cell_type": "code",
   "execution_count": 22,
   "metadata": {},
   "outputs": [],
   "source": [
    "# 2 pull apart xlsx\n",
    "xlsx_data = pd.read_excel('../data/PerformanceReports.xlsx', None)"
   ]
  },
  {
   "cell_type": "code",
   "execution_count": 23,
   "metadata": {},
   "outputs": [],
   "source": [
    "# and write to individual csv files\n",
    "name_prefix = '../prepared_data/nj_'\n",
    "for k in xlsx_data.keys():\n",
    "    xlsx_data[k].to_csv(name_prefix + k + '.csv', index = False)"
   ]
  },
  {
   "cell_type": "code",
   "execution_count": 31,
   "metadata": {},
   "outputs": [],
   "source": [
    "# 3 pull apart mdb\n",
    "mdb_file = '../data/nys_school_report_card.mdb'\n",
    "table_list = subprocess.check_output(\n",
    "    ['mdb-tables', '-d,', mdb_file]\n",
    ").decode('utf-8').split(',')\n"
   ]
  },
  {
   "cell_type": "code",
   "execution_count": 35,
   "metadata": {},
   "outputs": [
    {
     "data": {
      "text/plain": [
       "['Accountability',\n",
       " 'Attendance and Suspensions',\n",
       " 'Average Class Size',\n",
       " 'BEDS Day Enrollment',\n",
       " 'BEDS_Day_Enrollment_By_Subgroup',\n",
       " 'BOCES and N/RC',\n",
       " 'ELA3 Subgroup Results',\n",
       " 'ELA4 Subgroup Results',\n",
       " 'ELA5 Subgroup Results',\n",
       " 'ELA6 Subgroup Results',\n",
       " 'ELA7 Subgroup Results',\n",
       " 'ELA8 Subgroup Results',\n",
       " 'High School Noncompleters',\n",
       " 'High School Post-Graduation Plans of Completers',\n",
       " 'Institution Grouping',\n",
       " 'Math3 Subgroup Results',\n",
       " 'Math4 Subgroup Results',\n",
       " 'Math5 Subgroup Results',\n",
       " 'Math6 Subgroup Results',\n",
       " 'Math8 Subgroup Results',\n",
       " 'New York State Alternate Assessment (NYSAA) Annual Results',\n",
       " 'NYSESLAT Annual Results',\n",
       " 'Recently Arrived ELL Students NOT Tested on ELA NYSTP',\n",
       " 'Regents Common Core Examination Annual Results',\n",
       " 'Regents Competency Test (RCT) Annual Results',\n",
       " 'Regents Examination Annual Results',\n",
       " 'Science4 Subgroup Results',\n",
       " 'Science8 Subgroup Results',\n",
       " 'Total Cohort ELA Subgroup Results',\n",
       " 'Total Cohort Global Hist & Geo Subgroup Results',\n",
       " 'Total Cohort Graduation Rate for Advanced Students',\n",
       " 'Total Cohort Math Subgroup Results',\n",
       " 'Total Cohort Science Subgroup Results',\n",
       " 'Demographic Factors',\n",
       " 'High School Completers',\n",
       " 'Math7 Subgroup Results',\n",
       " 'Staff',\n",
       " 'Total Cohort US Hist & Govt Subgroup Results']"
      ]
     },
     "execution_count": 35,
     "metadata": {},
     "output_type": "execute_result"
    }
   ],
   "source": [
    "table_list.remove('\\n')"
   ]
  },
  {
   "cell_type": "code",
   "execution_count": 27,
   "metadata": {},
   "outputs": [
    {
     "name": "stderr",
     "output_type": "stream",
     "text": [
      "/Users/jlaurito/anaconda3/envs/jl/lib/python3.6/site-packages/IPython/core/interactiveshell.py:2728: DtypeWarning: Columns (6,7,13) have mixed types. Specify dtype option on import or set low_memory=False.\n",
      "  interactivity=interactivity, compiler=compiler, result=result)\n"
     ]
    },
    {
     "name": "stdout",
     "output_type": "stream",
     "text": [
      "Wrote table Accountability\n",
      "Wrote table Attendance and Suspensions\n",
      "Wrote table Average Class Size\n",
      "Wrote table BEDS Day Enrollment\n",
      "Wrote table BEDS_Day_Enrollment_By_Subgroup\n",
      "Wrote table BOCES and N/RC\n",
      "Wrote table ELA3 Subgroup Results\n",
      "Wrote table ELA4 Subgroup Results\n",
      "Wrote table ELA5 Subgroup Results\n",
      "Wrote table ELA6 Subgroup Results\n",
      "Wrote table ELA7 Subgroup Results\n",
      "Wrote table ELA8 Subgroup Results\n",
      "Wrote table High School Noncompleters\n",
      "Wrote table High School Post-Graduation Plans of Completers\n",
      "Wrote table Institution Grouping\n",
      "Wrote table Math3 Subgroup Results\n",
      "Wrote table Math4 Subgroup Results\n",
      "Wrote table Math5 Subgroup Results\n",
      "Wrote table Math6 Subgroup Results\n",
      "Wrote table Math8 Subgroup Results\n",
      "Wrote table New York State Alternate Assessment (NYSAA) Annual Results\n",
      "Wrote table NYSESLAT Annual Results\n",
      "Wrote table Recently Arrived ELL Students NOT Tested on ELA NYSTP\n",
      "Wrote table Regents Common Core Examination Annual Results\n",
      "Wrote table Regents Competency Test (RCT) Annual Results\n",
      "Wrote table Regents Examination Annual Results\n",
      "Wrote table Science4 Subgroup Results\n",
      "Wrote table Science8 Subgroup Results\n",
      "Wrote table Total Cohort ELA Subgroup Results\n",
      "Wrote table Total Cohort Global Hist & Geo Subgroup Results\n",
      "Wrote table Total Cohort Graduation Rate for Advanced Students\n",
      "Wrote table Total Cohort Math Subgroup Results\n",
      "Wrote table Total Cohort Science Subgroup Results\n",
      "Wrote table Demographic Factors\n",
      "Wrote table High School Completers\n",
      "Wrote table Math7 Subgroup Results\n",
      "Wrote table Staff\n",
      "Wrote table Total Cohort US Hist & Govt Subgroup Results\n"
     ]
    },
    {
     "ename": "EmptyDataError",
     "evalue": "No columns to parse from file",
     "output_type": "error",
     "traceback": [
      "\u001b[0;31m---------------------------------------------------------------------------\u001b[0m",
      "\u001b[0;31mEmptyDataError\u001b[0m                            Traceback (most recent call last)",
      "\u001b[0;32m<ipython-input-27-e6e32e0a8a98>\u001b[0m in \u001b[0;36m<module>\u001b[0;34m()\u001b[0m\n\u001b[1;32m      5\u001b[0m         \u001b[0mstdout\u001b[0m\u001b[0;34m=\u001b[0m\u001b[0msubprocess\u001b[0m\u001b[0;34m.\u001b[0m\u001b[0mPIPE\u001b[0m\u001b[0;34m\u001b[0m\u001b[0m\n\u001b[1;32m      6\u001b[0m     )\n\u001b[0;32m----> 7\u001b[0;31m     \u001b[0m_\u001b[0m \u001b[0;34m=\u001b[0m \u001b[0mpd\u001b[0m\u001b[0;34m.\u001b[0m\u001b[0mread_csv\u001b[0m\u001b[0;34m(\u001b[0m\u001b[0mproc\u001b[0m\u001b[0;34m.\u001b[0m\u001b[0mstdout\u001b[0m\u001b[0;34m)\u001b[0m\u001b[0;34m\u001b[0m\u001b[0m\n\u001b[0m\u001b[1;32m      8\u001b[0m     \u001b[0m_\u001b[0m\u001b[0;34m.\u001b[0m\u001b[0mto_csv\u001b[0m\u001b[0;34m(\u001b[0m\u001b[0mname_prefix\u001b[0m \u001b[0;34m+\u001b[0m \u001b[0mt\u001b[0m\u001b[0;34m.\u001b[0m\u001b[0mreplace\u001b[0m\u001b[0;34m(\u001b[0m\u001b[0;34m'/'\u001b[0m\u001b[0;34m,\u001b[0m\u001b[0;34m''\u001b[0m\u001b[0;34m)\u001b[0m\u001b[0;34m.\u001b[0m\u001b[0mreplace\u001b[0m\u001b[0;34m(\u001b[0m\u001b[0;34m' '\u001b[0m\u001b[0;34m,\u001b[0m \u001b[0;34m'_'\u001b[0m\u001b[0;34m)\u001b[0m \u001b[0;34m+\u001b[0m \u001b[0;34m'.csv'\u001b[0m\u001b[0;34m,\u001b[0m \u001b[0mindex\u001b[0m \u001b[0;34m=\u001b[0m \u001b[0;32mFalse\u001b[0m\u001b[0;34m)\u001b[0m\u001b[0;34m\u001b[0m\u001b[0m\n\u001b[1;32m      9\u001b[0m     \u001b[0mprint\u001b[0m\u001b[0;34m(\u001b[0m\u001b[0;34m'Wrote table '\u001b[0m \u001b[0;34m+\u001b[0m \u001b[0mt\u001b[0m\u001b[0;34m)\u001b[0m\u001b[0;34m\u001b[0m\u001b[0m\n",
      "\u001b[0;32m~/anaconda3/envs/jl/lib/python3.6/site-packages/pandas/io/parsers.py\u001b[0m in \u001b[0;36mparser_f\u001b[0;34m(filepath_or_buffer, sep, delimiter, header, names, index_col, usecols, squeeze, prefix, mangle_dupe_cols, dtype, engine, converters, true_values, false_values, skipinitialspace, skiprows, nrows, na_values, keep_default_na, na_filter, verbose, skip_blank_lines, parse_dates, infer_datetime_format, keep_date_col, date_parser, dayfirst, iterator, chunksize, compression, thousands, decimal, lineterminator, quotechar, quoting, escapechar, comment, encoding, dialect, tupleize_cols, error_bad_lines, warn_bad_lines, skipfooter, skip_footer, doublequote, delim_whitespace, as_recarray, compact_ints, use_unsigned, low_memory, buffer_lines, memory_map, float_precision)\u001b[0m\n\u001b[1;32m    707\u001b[0m                     skip_blank_lines=skip_blank_lines)\n\u001b[1;32m    708\u001b[0m \u001b[0;34m\u001b[0m\u001b[0m\n\u001b[0;32m--> 709\u001b[0;31m         \u001b[0;32mreturn\u001b[0m \u001b[0m_read\u001b[0m\u001b[0;34m(\u001b[0m\u001b[0mfilepath_or_buffer\u001b[0m\u001b[0;34m,\u001b[0m \u001b[0mkwds\u001b[0m\u001b[0;34m)\u001b[0m\u001b[0;34m\u001b[0m\u001b[0m\n\u001b[0m\u001b[1;32m    710\u001b[0m \u001b[0;34m\u001b[0m\u001b[0m\n\u001b[1;32m    711\u001b[0m     \u001b[0mparser_f\u001b[0m\u001b[0;34m.\u001b[0m\u001b[0m__name__\u001b[0m \u001b[0;34m=\u001b[0m \u001b[0mname\u001b[0m\u001b[0;34m\u001b[0m\u001b[0m\n",
      "\u001b[0;32m~/anaconda3/envs/jl/lib/python3.6/site-packages/pandas/io/parsers.py\u001b[0m in \u001b[0;36m_read\u001b[0;34m(filepath_or_buffer, kwds)\u001b[0m\n\u001b[1;32m    447\u001b[0m \u001b[0;34m\u001b[0m\u001b[0m\n\u001b[1;32m    448\u001b[0m     \u001b[0;31m# Create the parser.\u001b[0m\u001b[0;34m\u001b[0m\u001b[0;34m\u001b[0m\u001b[0m\n\u001b[0;32m--> 449\u001b[0;31m     \u001b[0mparser\u001b[0m \u001b[0;34m=\u001b[0m \u001b[0mTextFileReader\u001b[0m\u001b[0;34m(\u001b[0m\u001b[0mfilepath_or_buffer\u001b[0m\u001b[0;34m,\u001b[0m \u001b[0;34m**\u001b[0m\u001b[0mkwds\u001b[0m\u001b[0;34m)\u001b[0m\u001b[0;34m\u001b[0m\u001b[0m\n\u001b[0m\u001b[1;32m    450\u001b[0m \u001b[0;34m\u001b[0m\u001b[0m\n\u001b[1;32m    451\u001b[0m     \u001b[0;32mif\u001b[0m \u001b[0mchunksize\u001b[0m \u001b[0;32mor\u001b[0m \u001b[0miterator\u001b[0m\u001b[0;34m:\u001b[0m\u001b[0;34m\u001b[0m\u001b[0m\n",
      "\u001b[0;32m~/anaconda3/envs/jl/lib/python3.6/site-packages/pandas/io/parsers.py\u001b[0m in \u001b[0;36m__init__\u001b[0;34m(self, f, engine, **kwds)\u001b[0m\n\u001b[1;32m    816\u001b[0m             \u001b[0mself\u001b[0m\u001b[0;34m.\u001b[0m\u001b[0moptions\u001b[0m\u001b[0;34m[\u001b[0m\u001b[0;34m'has_index_names'\u001b[0m\u001b[0;34m]\u001b[0m \u001b[0;34m=\u001b[0m \u001b[0mkwds\u001b[0m\u001b[0;34m[\u001b[0m\u001b[0;34m'has_index_names'\u001b[0m\u001b[0;34m]\u001b[0m\u001b[0;34m\u001b[0m\u001b[0m\n\u001b[1;32m    817\u001b[0m \u001b[0;34m\u001b[0m\u001b[0m\n\u001b[0;32m--> 818\u001b[0;31m         \u001b[0mself\u001b[0m\u001b[0;34m.\u001b[0m\u001b[0m_make_engine\u001b[0m\u001b[0;34m(\u001b[0m\u001b[0mself\u001b[0m\u001b[0;34m.\u001b[0m\u001b[0mengine\u001b[0m\u001b[0;34m)\u001b[0m\u001b[0;34m\u001b[0m\u001b[0m\n\u001b[0m\u001b[1;32m    819\u001b[0m \u001b[0;34m\u001b[0m\u001b[0m\n\u001b[1;32m    820\u001b[0m     \u001b[0;32mdef\u001b[0m \u001b[0mclose\u001b[0m\u001b[0;34m(\u001b[0m\u001b[0mself\u001b[0m\u001b[0;34m)\u001b[0m\u001b[0;34m:\u001b[0m\u001b[0;34m\u001b[0m\u001b[0m\n",
      "\u001b[0;32m~/anaconda3/envs/jl/lib/python3.6/site-packages/pandas/io/parsers.py\u001b[0m in \u001b[0;36m_make_engine\u001b[0;34m(self, engine)\u001b[0m\n\u001b[1;32m   1047\u001b[0m     \u001b[0;32mdef\u001b[0m \u001b[0m_make_engine\u001b[0m\u001b[0;34m(\u001b[0m\u001b[0mself\u001b[0m\u001b[0;34m,\u001b[0m \u001b[0mengine\u001b[0m\u001b[0;34m=\u001b[0m\u001b[0;34m'c'\u001b[0m\u001b[0;34m)\u001b[0m\u001b[0;34m:\u001b[0m\u001b[0;34m\u001b[0m\u001b[0m\n\u001b[1;32m   1048\u001b[0m         \u001b[0;32mif\u001b[0m \u001b[0mengine\u001b[0m \u001b[0;34m==\u001b[0m \u001b[0;34m'c'\u001b[0m\u001b[0;34m:\u001b[0m\u001b[0;34m\u001b[0m\u001b[0m\n\u001b[0;32m-> 1049\u001b[0;31m             \u001b[0mself\u001b[0m\u001b[0;34m.\u001b[0m\u001b[0m_engine\u001b[0m \u001b[0;34m=\u001b[0m \u001b[0mCParserWrapper\u001b[0m\u001b[0;34m(\u001b[0m\u001b[0mself\u001b[0m\u001b[0;34m.\u001b[0m\u001b[0mf\u001b[0m\u001b[0;34m,\u001b[0m \u001b[0;34m**\u001b[0m\u001b[0mself\u001b[0m\u001b[0;34m.\u001b[0m\u001b[0moptions\u001b[0m\u001b[0;34m)\u001b[0m\u001b[0;34m\u001b[0m\u001b[0m\n\u001b[0m\u001b[1;32m   1050\u001b[0m         \u001b[0;32melse\u001b[0m\u001b[0;34m:\u001b[0m\u001b[0;34m\u001b[0m\u001b[0m\n\u001b[1;32m   1051\u001b[0m             \u001b[0;32mif\u001b[0m \u001b[0mengine\u001b[0m \u001b[0;34m==\u001b[0m \u001b[0;34m'python'\u001b[0m\u001b[0;34m:\u001b[0m\u001b[0;34m\u001b[0m\u001b[0m\n",
      "\u001b[0;32m~/anaconda3/envs/jl/lib/python3.6/site-packages/pandas/io/parsers.py\u001b[0m in \u001b[0;36m__init__\u001b[0;34m(self, src, **kwds)\u001b[0m\n\u001b[1;32m   1693\u001b[0m         \u001b[0mkwds\u001b[0m\u001b[0;34m[\u001b[0m\u001b[0;34m'allow_leading_cols'\u001b[0m\u001b[0;34m]\u001b[0m \u001b[0;34m=\u001b[0m \u001b[0mself\u001b[0m\u001b[0;34m.\u001b[0m\u001b[0mindex_col\u001b[0m \u001b[0;32mis\u001b[0m \u001b[0;32mnot\u001b[0m \u001b[0;32mFalse\u001b[0m\u001b[0;34m\u001b[0m\u001b[0m\n\u001b[1;32m   1694\u001b[0m \u001b[0;34m\u001b[0m\u001b[0m\n\u001b[0;32m-> 1695\u001b[0;31m         \u001b[0mself\u001b[0m\u001b[0;34m.\u001b[0m\u001b[0m_reader\u001b[0m \u001b[0;34m=\u001b[0m \u001b[0mparsers\u001b[0m\u001b[0;34m.\u001b[0m\u001b[0mTextReader\u001b[0m\u001b[0;34m(\u001b[0m\u001b[0msrc\u001b[0m\u001b[0;34m,\u001b[0m \u001b[0;34m**\u001b[0m\u001b[0mkwds\u001b[0m\u001b[0;34m)\u001b[0m\u001b[0;34m\u001b[0m\u001b[0m\n\u001b[0m\u001b[1;32m   1696\u001b[0m \u001b[0;34m\u001b[0m\u001b[0m\n\u001b[1;32m   1697\u001b[0m         \u001b[0;31m# XXX\u001b[0m\u001b[0;34m\u001b[0m\u001b[0;34m\u001b[0m\u001b[0m\n",
      "\u001b[0;32mpandas/_libs/parsers.pyx\u001b[0m in \u001b[0;36mpandas._libs.parsers.TextReader.__cinit__\u001b[0;34m()\u001b[0m\n",
      "\u001b[0;31mEmptyDataError\u001b[0m: No columns to parse from file"
     ]
    }
   ],
   "source": [
    "name_prefix = '../prepared_data/nys_reportcard_'\n",
    "for t in table_list:\n",
    "    proc = subprocess.Popen(\n",
    "        ['mdb-export', mdb_file, t],\n",
    "        stdout=subprocess.PIPE\n",
    "    )\n",
    "    _ = pd.read_csv(proc.stdout)\n",
    "    _.to_csv(name_prefix + t.replace('/','').replace(' ', '_') + '.csv', index = False)\n",
    "    print('Wrote table ' + t)"
   ]
  }
 ],
 "metadata": {
  "kernelspec": {
   "display_name": "Python 3",
   "language": "python",
   "name": "python3"
  },
  "language_info": {
   "codemirror_mode": {
    "name": "ipython",
    "version": 3
   },
   "file_extension": ".py",
   "mimetype": "text/x-python",
   "name": "python",
   "nbconvert_exporter": "python",
   "pygments_lexer": "ipython3",
   "version": "3.6.4"
  }
 },
 "nbformat": 4,
 "nbformat_minor": 2
}
