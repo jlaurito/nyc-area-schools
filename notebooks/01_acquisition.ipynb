{
 "cells": [
  {
   "cell_type": "markdown",
   "metadata": {},
   "source": [
    "## NYC Area School Research\n",
    "\n",
    "### Goals:\n",
    "- Gather all information from nyc, westchester, NJ (and maybe LI & CT) Schools\n",
    "- Draw equivalencies between results/scores\n",
    "- Map results, by grade"
   ]
  },
  {
   "cell_type": "code",
   "execution_count": 4,
   "metadata": {},
   "outputs": [],
   "source": [
    "import os\n",
    "import requests\n",
    "\n",
    "import pandas as pd"
   ]
  },
  {
   "cell_type": "code",
   "execution_count": 23,
   "metadata": {},
   "outputs": [
    {
     "name": "stdout",
     "output_type": "stream",
     "text": [
      "L.index(value, [start, [stop]]) -> integer -- return first index of value.\n",
      "Raises ValueError if the value is not present.\n"
     ]
    }
   ],
   "source": [
    "#dir(os.path)\n",
    "print(os.listdir('.').index.__doc__)"
   ]
  },
  {
   "cell_type": "code",
   "execution_count": 39,
   "metadata": {},
   "outputs": [],
   "source": [
    "# convenience function to check for local version of file\n",
    "def download_if_not_local(url, local_dir_for_data=\".\"):\n",
    "    filename = url.split(\"/\")[-1]\n",
    "    local_data_files = os.listdir(local_dir_for_data)\n",
    "    try:\n",
    "        os.listdir(local_dir_for_data).index(filename)\n",
    "        print(filename + \" present locally\")\n",
    "    except ValueError:\n",
    "        print(\"Downloading \" + filename)\n",
    "        response = requests.get(url)\n",
    "        with open(local_dir_for_data + \"/\" + filename, \"wb\") as f:\n",
    "            f.write(response.content)\n",
    "        print(filename + \" downloaded\")"
   ]
  },
  {
   "cell_type": "code",
   "execution_count": 40,
   "metadata": {},
   "outputs": [
    {
     "name": "stdout",
     "output_type": "stream",
     "text": [
      "PerformanceReports.xlsx present locally\n"
     ]
    }
   ],
   "source": [
    "# NJ Data\n",
    "download_if_not_local(\n",
    "    url=\"https://rc.doe.state.nj.us/ReportsDatabase/PerformanceReports.xlsx\",\n",
    "    local_dir_for_data=\"../data\"\n",
    ")"
   ]
  },
  {
   "cell_type": "code",
   "execution_count": 41,
   "metadata": {},
   "outputs": [
    {
     "name": "stdout",
     "output_type": "stream",
     "text": [
      "Downloading 3-8-2016-17.zip\n",
      "3-8-2016-17.zip downloaded\n"
     ]
    }
   ],
   "source": [
    "# NYS 3-8 Assessment\n",
    "download_if_not_local(\n",
    "    url=\"https://data.nysed.gov/files/assessment/16-17/3-8-2016-17.zip\",\n",
    "    local_dir_for_data=\"../data\"\n",
    ")"
   ]
  },
  {
   "cell_type": "code",
   "execution_count": 42,
   "metadata": {},
   "outputs": [
    {
     "name": "stdout",
     "output_type": "stream",
     "text": [
      "Downloading SRC2017.zip\n",
      "SRC2017.zip downloaded\n"
     ]
    }
   ],
   "source": [
    "# NYS Report Card database\n",
    "download_if_not_local(\n",
    "    url=\"https://data.nysed.gov/files/reportcards/16-17/SRC2017.zip\",\n",
    "    local_dir_for_data=\"../data\"\n",
    ")"
   ]
  },
  {
   "cell_type": "code",
   "execution_count": 43,
   "metadata": {},
   "outputs": [
    {
     "name": "stdout",
     "output_type": "stream",
     "text": [
      "Downloading gradrate_2017.zip\n",
      "gradrate_2017.zip downloaded\n"
     ]
    }
   ],
   "source": [
    "# NYS Grad Rate Database\n",
    "download_if_not_local(\n",
    "    url=\"https://data.nysed.gov/files/gradrate/16-17/gradrate_2017.zip\",\n",
    "    local_dir_for_data=\"../data\"\n",
    ")"
   ]
  },
  {
   "cell_type": "code",
   "execution_count": null,
   "metadata": {},
   "outputs": [],
   "source": []
  }
 ],
 "metadata": {
  "kernelspec": {
   "display_name": "Python 3",
   "language": "python",
   "name": "python3"
  },
  "language_info": {
   "codemirror_mode": {
    "name": "ipython",
    "version": 3
   },
   "file_extension": ".py",
   "mimetype": "text/x-python",
   "name": "python",
   "nbconvert_exporter": "python",
   "pygments_lexer": "ipython3",
   "version": "3.6.4"
  }
 },
 "nbformat": 4,
 "nbformat_minor": 2
}
